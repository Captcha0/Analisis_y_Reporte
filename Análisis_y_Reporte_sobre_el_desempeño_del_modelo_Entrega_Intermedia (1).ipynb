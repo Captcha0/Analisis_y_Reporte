{
  "nbformat": 4,
  "nbformat_minor": 0,
  "metadata": {
    "colab": {
      "provenance": [],
      "collapsed_sections": []
    },
    "kernelspec": {
      "name": "python3",
      "display_name": "Python 3"
    },
    "language_info": {
      "name": "python"
    }
  },
  "cells": [
    {
      "cell_type": "markdown",
      "source": [
        "#Análisis y Reporte sobre el desempeño del modelo. Entrega Intermedia\n",
        "A00829598\n",
        "Juan Pablo Yáñez González"
      ],
      "metadata": {
        "id": "Ds1o9yiBLEfU"
      }
    },
    {
      "cell_type": "markdown",
      "source": [
        "## Codigo completo de analisis"
      ],
      "metadata": {
        "id": "8zr0bgkYLTEY"
      }
    },
    {
      "cell_type": "code",
      "execution_count": 84,
      "metadata": {
        "colab": {
          "base_uri": "https://localhost:8080/"
        },
        "id": "zZrbq1zNLCZs",
        "outputId": "dfc51d21-2883-4b13-fe57-112597f2d695"
      },
      "outputs": [
        {
          "output_type": "stream",
          "name": "stdout",
          "text": [
            "predicciones para nuestros datos de validación \n",
            "\n",
            "[0 0 0 0 0 1 0 0 1 0 1 0 0 0 0 0 0 0 0 0 1 0 0 0 0 0 0 0 1 0 0 0 0 0 0 0 0\n",
            " 0 0 0 0 0 0 1 0 1 0 0 1 0 0 1 1 1 0 0 0 0 0 0 0 0 1 1 0 0 0 0 1 1 0 0 1 1\n",
            " 0 0 1 0 0 0 1 0 1 0 0 1 1 0 1 0 0 0 1 0 0 1 0 0 0 0 0 1 0 1 0 0 1 1 1 1 0\n",
            " 0 0 1 0 0 0 0 1 0 1 0 0]\n",
            "198    1\n",
            "93     1\n",
            "723    0\n",
            "101    0\n",
            "739    1\n",
            "      ..\n",
            "732    1\n",
            "607    0\n",
            "95     0\n",
            "379    0\n",
            "616    0\n",
            "Name: Outcome, Length: 123, dtype: int64\n",
            "\n",
            "Predicción para una mujer con: Embarazos: 0, Glucosa: 148, Presion en sangre: 72, Grosor de la piel: 35, Nivel de insulina: 83, IMC: 43, Función pedigree de diabetes: 0.521, Edad: 22 \n",
            "\n",
            "1\n",
            "\n",
            "Predicción para una mujer con: Embarazos: 0, Glucosa: 80, Presion en sangre: 72, Grosor de la piel: 35, Nivel de insulina: 70, IMC: 24, Función pedigree de diabetes: 0.521, Edad: 32 \n",
            "\n",
            "0\n",
            "\n",
            "La exactitud del modelo usando nuestros datos de valicacion es de: \n",
            "0.7723577235772358\n"
          ]
        },
        {
          "output_type": "stream",
          "name": "stderr",
          "text": [
            "/usr/local/lib/python3.7/dist-packages/sklearn/base.py:451: UserWarning: X does not have valid feature names, but LogisticRegression was fitted with feature names\n",
            "  \"X does not have valid feature names, but\"\n",
            "/usr/local/lib/python3.7/dist-packages/sklearn/base.py:451: UserWarning: X does not have valid feature names, but LogisticRegression was fitted with feature names\n",
            "  \"X does not have valid feature names, but\"\n"
          ]
        }
      ],
      "source": [
        "from scipy.special import yv\n",
        "import pandas as pd\n",
        "import numpy as np\n",
        "from sklearn.linear_model import LogisticRegression\n",
        "from sklearn.model_selection import train_test_split\n",
        "\n",
        "\n",
        "# Uso de regresion logistica para predecir diabetes en mujeres mayores de 21 años.\n",
        "\n",
        "\n",
        "#Lectura CSV//dataset\n",
        "data = pd.read_csv('diabetes2.csv')\n",
        "\n",
        "x = (data.drop('Outcome', axis=1))\n",
        "y = data['Outcome']\n",
        "\n",
        "#Separacion del dataset de entrenamiento\n",
        "x_main,x_test,y_main,y_test = train_test_split(x, y, test_size = 0.2, random_state = 4)\n",
        "\n",
        "#Separación de datos de validación\n",
        "x_train,x_val,y_train,y_val = train_test_split(x_main, y_main, test_size= 0.2, random_state = 4)\n",
        "\n",
        "#Declaración del modelo como regresión logistica haciendo uso de sklearn, utilizamos el solver por defecto que hemos puesto de manera explicita y utilizamos 500 saltos enteros ya que 100 eran muy pocos para el modelo.\n",
        "model = LogisticRegression(solver='lbfgs', max_iter= 500)\n",
        "\n",
        "#Entrenamiento del modelo con la función fit de sklearn\n",
        "model.fit(x_train,y_train)\n",
        "\n",
        "#Realizamos predicciones para nuestros datos de prueba\n",
        "y_pred = model.predict(x_val)\n",
        "print('predicciones para nuestros datos de validación \\n')\n",
        "print(y_pred)\n",
        "print(y_val)\n",
        "print('')\n",
        "\n",
        "# Realizamos predicciones para dos mujeres arriba de 21 años\n",
        "\n",
        "#La primer mujer tiene un indice de glucosa alto al igual que el nivel de insulina sanguinea\n",
        "print('Predicción para una mujer con: Embarazos: 0, Glucosa: 148, Presion en sangre: 72, Grosor de la piel: 35, Nivel de insulina: 83, IMC: 43, Función pedigree de diabetes: 0.521, Edad: 22 \\n')\n",
        "print(model.predict(np.array([[0,148,72,35,83,43,0.521,22]])) [0])\n",
        "print('')\n",
        "#La segunda mujer tiene un indice de glucosa regular al igual que el nivel de insulina sanguinea\n",
        "print('Predicción para una mujer con: Embarazos: 0, Glucosa: 80, Presion en sangre: 72, Grosor de la piel: 35, Nivel de insulina: 70, IMC: 24, Función pedigree de diabetes: 0.521, Edad: 32 \\n')\n",
        "print(model.predict(np.array([[0,80,72,35,70,24,0.521,32]])) [0])\n",
        "print('')\n",
        "\n",
        "\n",
        "print('La exactitud del modelo usando nuestros datos de valicacion es de: ')\n",
        "print(model.score(x_val,y_val))\n",
        "\n"
      ]
    },
    {
      "cell_type": "markdown",
      "source": [
        "# Selección del modelo y lectura de datos\n",
        "\n",
        "Para iniciar el modelo primero se tiene que cargar el dataset a utilizar, para este programa se hizo uso de un set compartido por “El Instituto Nacional de Diabetes y Enfermedades Digestivas y Renales” el cual analiza a diferentes mujeres arriba de 21 años que padecieron diabetes.\n",
        "\n",
        "![image.png](data:image/png;base64,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)\n",
        "\n",
        "Se utilizó una regresión logística ya que nuestros datos son categóricos por lo que este modelo se adapta mejor a lo solicitado. La regresión logística busca predecir si el paciente tiene Diabetes."
      ],
      "metadata": {
        "id": "_QGEdFo7ehUI"
      }
    },
    {
      "cell_type": "markdown",
      "source": [
        "# Separación y evaluación del modelo con un conjunto de prueba y un conjunto de validación (Train/Test/Validation).\n",
        "\n",
        "Para poder entrenar el modelo de manera adecuada los datos del dataset fueron separados en 3 secciones, entrenamiento, testeo y validación. Los datos de entrenamiento como su nombre lo indica tienen la finalidad de ser la información alimentada al modelo para poder entrenarlo, por lo que esta parte ocupa más del 60% de datos disponibles en el dataset. Después se encuentran los datos de testeo que nos sirven para realizar predicciones y poder verificar la exactitud preliminar de nuestro modelo. Finalmente tenemos los datos de validación que son una serie de datos que nunca ha visto nuestro modelo por lo que estos llegan a indicarnos un puntaje de precisión de modelo mejor para su despliegue final.\n",
        "\n",
        "En el código el dataset es dividido haciendo uso de la función train_test_split que nos ofrece sklearn, en esta podemos especificar la cantidad de datos a dividir para cada conjunto.\n",
        "\n",
        "![image.png](data:image/png;base64,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)\n",
        "\n"
      ],
      "metadata": {
        "id": "eCWk1vYNgPJ-"
      }
    },
    {
      "cell_type": "markdown",
      "source": [
        "# Error de Bias \n",
        "Para obtener el grado de error en nuestro modelo hacemos uso de la funcion score de sklearn, que obtinene la diferencia entre la predicción esperada de nuestro modelo y los valores verdaderos, para esto evaluamos nuestro modelo de entrnamiento contra nuesto set de validación.\n",
        "\n",
        "![image.png](data:image/png;base64,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)\n",
        "\n",
        "\n",
        "Así logramos obtener la exactitud del 77%\n",
        "Esto quiere decir que nuestro modelo presenta un bias alto, lo que sugiere más suposiciones sobre la forma de la función objetivo.\n",
        "\n",
        "ala igual que podemos observar que nuestra grafica de predicciones azul difiere con la roja que es nuestro conjunto de validación.\n",
        "\n"
      ],
      "metadata": {
        "id": "QHVAKd5WlUhk"
      }
    },
    {
      "cell_type": "code",
      "source": [
        "import matplotlib.pyplot as plt\n",
        "colors1 = 'blue'\n",
        "colors2 = 'red'\n",
        "area = np.pi*3\n",
        "plt.scatter(x_val['Pregnancies'], y_pred, s=area, c= colors1, alpha=0.5)\n",
        "plt.show()\n",
        "plt.scatter(x_val['Pregnancies'], y_val, s=area, c= colors2, alpha=0.5)\n",
        "plt.show()"
      ],
      "metadata": {
        "colab": {
          "base_uri": "https://localhost:8080/",
          "height": 773
        },
        "id": "9-dPD2icvbQR",
        "outputId": "04813f5d-879a-439b-9b65-573988f4a6b8"
      },
      "execution_count": 96,
      "outputs": [
        {
          "output_type": "display_data",
          "data": {
            "text/plain": [
              "<Figure size 432x288 with 1 Axes>"
            ],
            "image/png": "[encoded data removed]"
          },
          "metadata": {
            "needs_background": "light"
          }
        },
        {
          "output_type": "stream",
          "name": "stdout",
          "text": [
            "Outcome       0  1\n",
            "Pregnancies       \n",
            "0            17  2\n",
            "1            16  3\n",
            "2            12  3\n",
            "3             9  4\n",
            "4             7  5\n",
            "5             8  4\n",
            "6             7  5\n",
            "7             4  4\n",
            "8             0  1\n",
            "9             1  3\n",
            "10            1  2\n",
            "11            2  2\n",
            "13            1  0\n"
          ]
        },
        {
          "output_type": "display_data",
          "data": {
            "text/plain": [
              "<Figure size 432x288 with 1 Axes>"
            ],
            "image/png": "[encoded data removed]"
          },
          "metadata": {
            "needs_background": "light"
          }
        }
      ]
    },
    {
      "cell_type": "markdown",
      "source": [
        "# Diagnóstico y explicación el grado de varianza\n",
        "\n",
        "Como podemos observar la variancia dada por nuestros datos es bastante alta, lo que nos dice que estos estan muy dispersos unos del, por lo que los valores se encuentran alejados."
      ],
      "metadata": {
        "id": "geLrDKQIMt_3"
      }
    },
    {
      "cell_type": "code",
      "source": [
        "grado = np.var(x)\n",
        "print(grado)"
      ],
      "metadata": {
        "colab": {
          "base_uri": "https://localhost:8080/"
        },
        "id": "Ki4fv5FzrU7I",
        "outputId": "be45cc3f-14ea-418d-81b6-07209249b4d5"
      },
      "execution_count": 76,
      "outputs": [
        {
          "output_type": "stream",
          "name": "stdout",
          "text": [
            "Pregnancies                    11.339272\n",
            "Glucose                      1020.917262\n",
            "BloodPressure                 374.159449\n",
            "SkinThickness                 254.141900\n",
            "Insulin                     13263.886875\n",
            "BMI                            62.079046\n",
            "DiabetesPedigreeFunction        0.109636\n",
            "Age                           138.122964\n",
            "dtype: float64\n"
          ]
        }
      ]
    },
    {
      "cell_type": "markdown",
      "source": [
        "# Diagnóstico y explicación el nivel de ajuste del modelo\n",
        "\n",
        "Para saber el nivel de ajuste de nuestro modelo necesitaremos comparar la exactitud del modelo con los datos entrenados y contra datos que no ha visto, si el modelo tiene mejor exactitud con los datos entrenados que con los no vistos esto quiere decir que esta ocurriendo un Overfitting del modelo es decir que el modelo ha memorizado los datos de entrenamiento y no necesariamente ha aprendido la relacion entre las etiquetas. Si sucede lo contrario estaria pasando un Underfitting.\n",
        "\n"
      ],
      "metadata": {
        "id": "jWci-lowuvqL"
      }
    },
    {
      "cell_type": "code",
      "source": [
        "#Datos de validación\n",
        "print(model.score(x_val,y_val))\n",
        "#Datos de entrenamiento\n",
        "print(model.score(x_train,y_train))"
      ],
      "metadata": {
        "colab": {
          "base_uri": "https://localhost:8080/"
        },
        "id": "mwAp2soX2XXr",
        "outputId": "80390f72-809b-4faa-97df-ac73d55627f3"
      },
      "execution_count": 99,
      "outputs": [
        {
          "output_type": "stream",
          "name": "stdout",
          "text": [
            "0.7723577235772358\n",
            "0.769857433808554\n"
          ]
        }
      ]
    },
    {
      "cell_type": "markdown",
      "source": [
        "Aquí podemos observar que por muy poco en nuestro modelo esta pasando un Undefitting, lo cual nos dice que nuestro modelo tiene un bias muy alto y puede que no sea lo suficientemenete complejo para capturar la relación entre las etiquetas."
      ],
      "metadata": {
        "id": "rpl0UhWt2nbr"
      }
    }
  ]
}